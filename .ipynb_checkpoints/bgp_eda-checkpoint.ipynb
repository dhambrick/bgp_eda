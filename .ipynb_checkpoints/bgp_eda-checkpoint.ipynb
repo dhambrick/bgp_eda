{
 "cells": [
  {
   "cell_type": "code",
   "execution_count": 1,
   "metadata": {},
   "outputs": [],
   "source": [
    "import numpy as np\n",
    "import scipy as sp\n",
    "import pandas as pd\n",
    "import pandas_profiling\n",
    "from pyod.models.knn import KNN"
   ]
  },
  {
   "cell_type": "code",
   "execution_count": 2,
   "metadata": {},
   "outputs": [],
   "source": [
    "data_path = 'as_is.csv'\n",
    "df = pd.read_csv(data_path)"
   ]
  },
  {
   "cell_type": "code",
   "execution_count": 3,
   "metadata": {},
   "outputs": [
    {
     "data": {
      "application/vnd.jupyter.widget-view+json": {
       "model_id": "c37921dfba1b4f73bbb4de61154ca8cf",
       "version_major": 2,
       "version_minor": 0
      },
      "text/plain": [
       "HBox(children=(FloatProgress(value=0.0, description='Summarize dataset', max=54.0, style=ProgressStyle(descrip…"
      ]
     },
     "metadata": {},
     "output_type": "display_data"
    },
    {
     "name": "stdout",
     "output_type": "stream",
     "text": [
      "\n"
     ]
    },
    {
     "data": {
      "application/vnd.jupyter.widget-view+json": {
       "model_id": "ffc792eac4e8442897d73d4c9daf6bf7",
       "version_major": 2,
       "version_minor": 0
      },
      "text/plain": [
       "HBox(children=(FloatProgress(value=0.0, description='Generate report structure', max=1.0, style=ProgressStyle(…"
      ]
     },
     "metadata": {},
     "output_type": "display_data"
    },
    {
     "name": "stdout",
     "output_type": "stream",
     "text": [
      "\n"
     ]
    },
    {
     "data": {
      "application/vnd.jupyter.widget-view+json": {
       "model_id": "973413525f054124806b4bf0cd2b8aaf",
       "version_major": 2,
       "version_minor": 0
      },
      "text/plain": [
       "HBox(children=(FloatProgress(value=0.0, description='Render HTML', max=1.0, style=ProgressStyle(description_wi…"
      ]
     },
     "metadata": {},
     "output_type": "display_data"
    },
    {
     "name": "stdout",
     "output_type": "stream",
     "text": [
      "\n"
     ]
    },
    {
     "data": {
      "application/vnd.jupyter.widget-view+json": {
       "model_id": "afe53826dbeb4802a8ee356785b53ca8",
       "version_major": 2,
       "version_minor": 0
      },
      "text/plain": [
       "HBox(children=(FloatProgress(value=0.0, description='Export report to file', max=1.0, style=ProgressStyle(desc…"
      ]
     },
     "metadata": {},
     "output_type": "display_data"
    },
    {
     "name": "stdout",
     "output_type": "stream",
     "text": [
      "\n"
     ]
    }
   ],
   "source": [
    "profile = df.profile_report(title='EDA Profile')\n",
    "profile.to_file(output_file=\"bgp_eda.html\")"
   ]
  },
  {
   "cell_type": "code",
   "execution_count": 4,
   "metadata": {},
   "outputs": [
    {
     "name": "stderr",
     "output_type": "stream",
     "text": [
      "F:\\Anaconda3\\envs\\bgp\\lib\\site-packages\\pandas\\core\\indexing.py:671: SettingWithCopyWarning: \n",
      "A value is trying to be set on a copy of a slice from a DataFrame\n",
      "\n",
      "See the caveats in the documentation: https://pandas.pydata.org/pandas-docs/stable/user_guide/indexing.html#returning-a-view-versus-a-copy\n",
      "  self._setitem_with_indexer(indexer, value)\n"
     ]
    }
   ],
   "source": [
    "cols = list(df.columns)\n",
    "\n",
    "df_normal = df.loc[df[\"Anomalous\"] == -1]\n",
    "df_anom   = df.loc[df[\"Anomalous\"] ==  1]\n",
    "\n",
    "df_train = df.sample(frac=0.8,random_state=1)\n",
    "df_test = df.drop(df_train.index)\n",
    "\n",
    "x_train = df_train[cols[0:37]]\n",
    "y_train = df_train[\"Anomalous\"]\n",
    "y_train.loc[y_train == -1] = 0\n",
    "\n",
    "x_test = df_test[cols[0:37]]\n",
    "y_test = df_test[\"Anomalous\"]\n",
    "y_test.loc[y_test == -1] = 0\n",
    "\n"
   ]
  },
  {
   "cell_type": "markdown",
   "metadata": {},
   "source": [
    "\n",
    "# Baseline Models:\n",
    "   The first set of models we will create are using the whole aggregated data set with minimal\n",
    "   feature engineering. The models themselves will also have minimal tuning.\n",
    "## KNN"
   ]
  },
  {
   "cell_type": "code",
   "execution_count": 5,
   "metadata": {},
   "outputs": [
    {
     "name": "stdout",
     "output_type": "stream",
     "text": [
      "Contamination Factor for whole data set:  16.513427702076992 %\n",
      "Contamination Factor for training set:  16.544710405556245 %\n"
     ]
    }
   ],
   "source": [
    "#Compute contimination of anomamlies\n",
    "n_norm = sum(df['Anomalous'] == -1)\n",
    "n_anom = sum(df['Anomalous'] ==  1)\n",
    "cont_factor = n_anom / (n_norm + n_anom)\n",
    "print('Contamination Factor for whole data set: ',cont_factor * 100 , \"%\")\n",
    "\n",
    "n_norm_train = sum(y_train == 0)\n",
    "n_anom_train = sum(y_train ==  1)\n",
    "cont_factor_train = n_anom_train / (n_norm_train + n_anom_train)\n",
    "print('Contamination Factor for training set: ',cont_factor_train * 100 , \"%\")\n"
   ]
  },
  {
   "cell_type": "code",
   "execution_count": 6,
   "metadata": {},
   "outputs": [
    {
     "data": {
      "text/plain": [
       "KNN(algorithm='auto', contamination=0.16544710405556246, leaf_size=30,\n",
       "  method='largest', metric='minkowski', metric_params=None, n_jobs=1,\n",
       "  n_neighbors=5, p=2, radius=1.0)"
      ]
     },
     "execution_count": 6,
     "metadata": {},
     "output_type": "execute_result"
    }
   ],
   "source": [
    "clf_name = 'KNN'\n",
    "clf = KNN(contamination=cont_factor_train)\n",
    "clf.fit(x_train.to_numpy())"
   ]
  },
  {
   "cell_type": "code",
   "execution_count": 7,
   "metadata": {},
   "outputs": [],
   "source": [
    "# get the prediction labels and outlier scores of the training data\n",
    "y_train_pred = clf.labels_  # binary labels (0: inliers, 1: outliers)\n",
    "y_train_scores = clf.decision_scores_  # raw outlier scores"
   ]
  },
  {
   "cell_type": "code",
   "execution_count": 8,
   "metadata": {},
   "outputs": [],
   "source": [
    "# get the prediction on the test data\n",
    "y_test_pred = clf.predict(x_test.to_numpy())  # outlier labels (0 or 1)\n",
    "y_test_scores = clf.decision_function(x_test.to_numpy())  # outlier scores"
   ]
  },
  {
   "cell_type": "code",
   "execution_count": 9,
   "metadata": {},
   "outputs": [
    {
     "name": "stdout",
     "output_type": "stream",
     "text": [
      "\n",
      "On Training Data:\n",
      "KNN ROC:0.6373, precision @ rank n:0.2046\n",
      "\n",
      "On Test Data:\n",
      "KNN ROC:0.633, precision @ rank n:0.1937\n"
     ]
    }
   ],
   "source": [
    "from pyod.utils.data import evaluate_print\n",
    "# evaluate and print the results\n",
    "print(\"\\nOn Training Data:\")\n",
    "evaluate_print(clf_name, y_train.to_numpy(), y_train_scores)\n",
    "print(\"\\nOn Test Data:\")\n",
    "evaluate_print(clf_name, y_test.to_numpy(), y_test_scores)"
   ]
  },
  {
   "cell_type": "markdown",
   "metadata": {},
   "source": [
    "## KNN with PCA"
   ]
  },
  {
   "cell_type": "code",
   "execution_count": 10,
   "metadata": {},
   "outputs": [],
   "source": [
    "from sklearn.preprocessing import MinMaxScaler\n",
    "scaler = MinMaxScaler()\n",
    "x_train_rescaled = scaler.fit_transform(x_train.to_numpy())\n",
    "x_test_rescaled = scaler.fit_transform(x_test.to_numpy())\n"
   ]
  },
  {
   "cell_type": "code",
   "execution_count": 11,
   "metadata": {},
   "outputs": [
    {
     "name": "stdout",
     "output_type": "stream",
     "text": [
      "(24189, 12)\n"
     ]
    }
   ],
   "source": [
    "from sklearn.decomposition import PCA\n",
    "pca = PCA(n_components = 0.95)\n",
    "pca.fit(x_train_rescaled)\n",
    "reduced = pca.transform(x_train_rescaled)\n",
    "print(reduced.shape)"
   ]
  },
  {
   "cell_type": "code",
   "execution_count": 12,
   "metadata": {},
   "outputs": [
    {
     "data": {
      "text/plain": [
       "KNN(algorithm='auto', contamination=0.16544710405556246, leaf_size=30,\n",
       "  method='largest', metric='minkowski', metric_params=None, n_jobs=1,\n",
       "  n_neighbors=5, p=2, radius=1.0)"
      ]
     },
     "execution_count": 12,
     "metadata": {},
     "output_type": "execute_result"
    }
   ],
   "source": [
    "clf_2 = KNN(contamination=cont_factor_train)\n",
    "clf_2.fit(reduced)"
   ]
  },
  {
   "cell_type": "code",
   "execution_count": 13,
   "metadata": {},
   "outputs": [],
   "source": [
    "# get the prediction labels and outlier scores of the training data\n",
    "y_train_pred_red = clf_2.labels_  # binary labels (0: inliers, 1: outliers)\n",
    "y_train_scores_red = clf_2.decision_scores_  # raw outlier scores"
   ]
  },
  {
   "cell_type": "code",
   "execution_count": 14,
   "metadata": {},
   "outputs": [
    {
     "name": "stdout",
     "output_type": "stream",
     "text": [
      "\n",
      "On Training Data:\n",
      "KNN ROC:0.484, precision @ rank n:0.0947\n"
     ]
    }
   ],
   "source": [
    "from pyod.utils.data import evaluate_print\n",
    "# evaluate and print the results\n",
    "print(\"\\nOn Training Data:\")\n",
    "evaluate_print(clf_name, y_train.to_numpy(), y_train_scores_red)"
   ]
  },
  {
   "cell_type": "markdown",
   "metadata": {},
   "source": [
    "## AutoEncoder"
   ]
  },
  {
   "cell_type": "code",
   "execution_count": 15,
   "metadata": {},
   "outputs": [
    {
     "name": "stderr",
     "output_type": "stream",
     "text": [
      "Using TensorFlow backend.\n"
     ]
    }
   ],
   "source": [
    "from tensorflow.keras import backend as k\n",
    "from pyod.utils.data import generate_data\n",
    "from pyod.models.auto_encoder import AutoEncoder\n",
    "from keras.utils import plot_model"
   ]
  },
  {
   "cell_type": "code",
   "execution_count": 16,
   "metadata": {},
   "outputs": [],
   "source": [
    "#Configuration\n",
    "contamination = cont_factor_train\n",
    "epochs = 30"
   ]
  },
  {
   "cell_type": "code",
   "execution_count": 17,
   "metadata": {},
   "outputs": [
    {
     "name": "stdout",
     "output_type": "stream",
     "text": [
      "Model: \"sequential_1\"\n",
      "_________________________________________________________________\n",
      "Layer (type)                 Output Shape              Param #   \n",
      "=================================================================\n",
      "dense_1 (Dense)              (None, 37)                1406      \n",
      "_________________________________________________________________\n",
      "dropout_1 (Dropout)          (None, 37)                0         \n",
      "_________________________________________________________________\n",
      "dense_2 (Dense)              (None, 37)                1406      \n",
      "_________________________________________________________________\n",
      "dropout_2 (Dropout)          (None, 37)                0         \n",
      "_________________________________________________________________\n",
      "dense_3 (Dense)              (None, 64)                2432      \n",
      "_________________________________________________________________\n",
      "dropout_3 (Dropout)          (None, 64)                0         \n",
      "_________________________________________________________________\n",
      "dense_4 (Dense)              (None, 32)                2080      \n",
      "_________________________________________________________________\n",
      "dropout_4 (Dropout)          (None, 32)                0         \n",
      "_________________________________________________________________\n",
      "dense_5 (Dense)              (None, 32)                1056      \n",
      "_________________________________________________________________\n",
      "dropout_5 (Dropout)          (None, 32)                0         \n",
      "_________________________________________________________________\n",
      "dense_6 (Dense)              (None, 64)                2112      \n",
      "_________________________________________________________________\n",
      "dropout_6 (Dropout)          (None, 64)                0         \n",
      "_________________________________________________________________\n",
      "dense_7 (Dense)              (None, 37)                2405      \n",
      "=================================================================\n",
      "Total params: 12,897\n",
      "Trainable params: 12,897\n",
      "Non-trainable params: 0\n",
      "_________________________________________________________________\n",
      "None\n",
      "Train on 21770 samples, validate on 2419 samples\n",
      "Epoch 1/30\n",
      "21770/21770 [==============================] - 6s 255us/step - loss: 29.1154 - val_loss: 6.1639\n",
      "Epoch 2/30\n",
      "21770/21770 [==============================] - 3s 138us/step - loss: 6.5508 - val_loss: 3.3820\n",
      "Epoch 3/30\n",
      "21770/21770 [==============================] - 3s 136us/step - loss: 3.7891 - val_loss: 2.4226\n",
      "Epoch 4/30\n",
      "21770/21770 [==============================] - 3s 137us/step - loss: 2.6098 - val_loss: 1.9521\n",
      "Epoch 5/30\n",
      "21770/21770 [==============================] - 3s 133us/step - loss: 2.0390 - val_loss: 1.6571\n",
      "Epoch 6/30\n",
      "21770/21770 [==============================] - 3s 133us/step - loss: 1.7209 - val_loss: 1.4663\n",
      "Epoch 7/30\n",
      "21770/21770 [==============================] - 3s 132us/step - loss: 1.5211 - val_loss: 1.3370\n",
      "Epoch 8/30\n",
      "21770/21770 [==============================] - 3s 132us/step - loss: 1.3955 - val_loss: 1.2407\n",
      "Epoch 9/30\n",
      "21770/21770 [==============================] - 3s 134us/step - loss: 1.3036 - val_loss: 1.1682\n",
      "Epoch 10/30\n",
      "21770/21770 [==============================] - 3s 137us/step - loss: 1.2344 - val_loss: 1.1117\n",
      "Epoch 11/30\n",
      "21770/21770 [==============================] - 3s 136us/step - loss: 1.1816 - val_loss: 1.0667\n",
      "Epoch 12/30\n",
      "21770/21770 [==============================] - 3s 134us/step - loss: 1.1401 - val_loss: 1.0313\n",
      "Epoch 13/30\n",
      "21770/21770 [==============================] - 3s 133us/step - loss: 1.1074 - val_loss: 1.0033\n",
      "Epoch 14/30\n",
      "21770/21770 [==============================] - 3s 137us/step - loss: 1.0815 - val_loss: 0.9813\n",
      "Epoch 15/30\n",
      "21770/21770 [==============================] - 3s 134us/step - loss: 1.0614 - val_loss: 0.9639\n",
      "Epoch 16/30\n",
      "21770/21770 [==============================] - 3s 138us/step - loss: 1.0463 - val_loss: 0.9510\n",
      "Epoch 17/30\n",
      "21770/21770 [==============================] - 3s 140us/step - loss: 1.0349 - val_loss: 0.9414\n",
      "Epoch 18/30\n",
      "21770/21770 [==============================] - 3s 139us/step - loss: 1.0267 - val_loss: 0.9346\n",
      "Epoch 19/30\n",
      "21770/21770 [==============================] - 3s 137us/step - loss: 1.0208 - val_loss: 0.9298\n",
      "Epoch 20/30\n",
      "21770/21770 [==============================] - 3s 138us/step - loss: 1.0168 - val_loss: 0.9265\n",
      "Epoch 21/30\n",
      "21770/21770 [==============================] - 3s 133us/step - loss: 1.0141 - val_loss: 0.9244\n",
      "Epoch 22/30\n",
      "21770/21770 [==============================] - 3s 138us/step - loss: 1.0123 - val_loss: 0.9229\n",
      "Epoch 23/30\n",
      "21770/21770 [==============================] - 3s 135us/step - loss: 1.0112 - val_loss: 0.9220\n",
      "Epoch 24/30\n",
      "21770/21770 [==============================] - 3s 135us/step - loss: 1.0105 - val_loss: 0.9214\n",
      "Epoch 25/30\n",
      "21770/21770 [==============================] - 3s 152us/step - loss: 1.0100 - val_loss: 0.9211\n",
      "Epoch 26/30\n",
      "21770/21770 [==============================] - 3s 149us/step - loss: 1.0097 - val_loss: 0.9208\n",
      "Epoch 27/30\n",
      "21770/21770 [==============================] - 3s 140us/step - loss: 1.0094 - val_loss: 0.9206\n",
      "Epoch 28/30\n",
      "21770/21770 [==============================] - 3s 138us/step - loss: 1.0093 - val_loss: 0.9205\n",
      "Epoch 29/30\n",
      "21770/21770 [==============================] - 3s 144us/step - loss: 1.0092 - val_loss: 0.9204\n",
      "Epoch 30/30\n",
      "21770/21770 [==============================] - 3s 139us/step - loss: 1.0091 - val_loss: 0.9204\n"
     ]
    },
    {
     "data": {
      "text/plain": [
       "AutoEncoder(batch_size=32, contamination=0.16544710405556246,\n",
       "      dropout_rate=0.2, epochs=30, hidden_activation='relu',\n",
       "      hidden_neurons=[64, 32, 32, 64], l2_regularizer=0.1,\n",
       "      loss=<function mean_squared_error at 0x00000223A6C99AF8>,\n",
       "      optimizer='adam', output_activation='sigmoid', preprocessing=True,\n",
       "      random_state=None, validation_size=0.1, verbose=1)"
      ]
     },
     "execution_count": 17,
     "metadata": {},
     "output_type": "execute_result"
    }
   ],
   "source": [
    "clf_3 = AutoEncoder(epochs=epochs, contamination=contamination)\n",
    "clf_3.fit(x_train.to_numpy())"
   ]
  },
  {
   "cell_type": "code",
   "execution_count": 18,
   "metadata": {},
   "outputs": [],
   "source": [
    "y_train_pred = clf_3.labels_  \n",
    "y_train_scores = clf_3.decision_scores_ "
   ]
  },
  {
   "cell_type": "code",
   "execution_count": 21,
   "metadata": {},
   "outputs": [
    {
     "name": "stdout",
     "output_type": "stream",
     "text": [
      "\n",
      "On Training Data:\n",
      "Autoencoder ROC:0.4193, precision @ rank n:0.1057\n"
     ]
    }
   ],
   "source": [
    "print(\"\\nOn Training Data:\")\n",
    "evaluate_print(\"Autoencoder\", y_train.to_numpy(), y_train_scores)"
   ]
  },
  {
   "cell_type": "code",
   "execution_count": 20,
   "metadata": {},
   "outputs": [
    {
     "data": {
      "image/png": "[encoded data removed]",
      "text/plain": [
       "<Figure size 576x396 with 1 Axes>"
      ]
     },
     "metadata": {},
     "output_type": "display_data"
    }
   ],
   "source": [
    "import matplotlib.pyplot as plt\n",
    "plt.plot(np.sort(y_train_scores));\n",
    "plt.axhline(y=clf_3.threshold_, c='r', ls='dotted', label='threshoold');\n",
    "plt.title('Anomaly Scores with automatically calculated threshold');"
   ]
  },
  {
   "cell_type": "code",
   "execution_count": 23,
   "metadata": {},
   "outputs": [
    {
     "data": {
      "image/png": "[encoded data removed]",
      "text/plain": [
       "<Figure size 576x396 with 1 Axes>"
      ]
     },
     "metadata": {},
     "output_type": "display_data"
    }
   ],
   "source": [
    "pd.DataFrame.from_dict(clf_3.history_).plot(title='Error Loss History');"
   ]
  },
  {
   "cell_type": "markdown",
   "metadata": {},
   "source": [
    "# Experiments:\n",
    "## 1) Using Aggregated, None Contaminated Training Data\n",
    "The first set of experiments will use the aggregated BGP data, but unlike before, the training\n",
    "data wont be contaminated with any anomalies."
   ]
  },
  {
   "cell_type": "markdown",
   "metadata": {},
   "source": [
    "### Training and Test Set Creation:"
   ]
  },
  {
   "cell_type": "code",
   "execution_count": 34,
   "metadata": {},
   "outputs": [
    {
     "name": "stderr",
     "output_type": "stream",
     "text": [
      "F:\\Anaconda3\\envs\\bgp\\lib\\site-packages\\pandas\\core\\indexing.py:671: SettingWithCopyWarning: \n",
      "A value is trying to be set on a copy of a slice from a DataFrame\n",
      "\n",
      "See the caveats in the documentation: https://pandas.pydata.org/pandas-docs/stable/user_guide/indexing.html#returning-a-view-versus-a-copy\n",
      "  self._setitem_with_indexer(indexer, value)\n",
      "F:\\Anaconda3\\envs\\bgp\\lib\\site-packages\\ipykernel_launcher.py:7: SettingWithCopyWarning: \n",
      "A value is trying to be set on a copy of a slice from a DataFrame\n",
      "\n",
      "See the caveats in the documentation: https://pandas.pydata.org/pandas-docs/stable/user_guide/indexing.html#returning-a-view-versus-a-copy\n",
      "  import sys\n",
      "F:\\Anaconda3\\envs\\bgp\\lib\\site-packages\\ipykernel_launcher.py:11: SettingWithCopyWarning: \n",
      "A value is trying to be set on a copy of a slice from a DataFrame\n",
      "\n",
      "See the caveats in the documentation: https://pandas.pydata.org/pandas-docs/stable/user_guide/indexing.html#returning-a-view-versus-a-copy\n",
      "  # This is added back by InteractiveShellApp.init_path()\n"
     ]
    }
   ],
   "source": [
    "\n",
    "\n",
    "#df_normal = df.loc[df[\"Anomalous\"] == -1]\n",
    "#df_anom   = df.loc[df[\"Anomalous\"] ==  1]\n",
    "\n",
    "\n",
    "x_train_normal = df_normal[cols[0:37]]\n",
    "y_train_normal = df_normal[\"Anomalous\"]\n",
    "y_train_normal.loc[y_train_normal == -1] = 0\n",
    "\n",
    "x_test_anom = df_anom[cols[0:37]]\n",
    "y_test_anom = df_anom[\"Anomalous\"]\n",
    "y_test_anom.loc[y_test_anom == -1] = 0"
   ]
  },
  {
   "cell_type": "markdown",
   "metadata": {},
   "source": [
    "### Model Creation: KNN"
   ]
  },
  {
   "cell_type": "code",
   "execution_count": 37,
   "metadata": {},
   "outputs": [
    {
     "data": {
      "text/plain": [
       "KNN(algorithm='auto', contamination=1e-10, leaf_size=30, method='largest',\n",
       "  metric='minkowski', metric_params=None, n_jobs=1, n_neighbors=5, p=2,\n",
       "  radius=1.0)"
      ]
     },
     "execution_count": 37,
     "metadata": {},
     "output_type": "execute_result"
    }
   ],
   "source": [
    "clf_4 = KNN(contamination=0.0000000001)\n",
    "clf_4.fit(x_train_normal.to_numpy())"
   ]
  },
  {
   "cell_type": "code",
   "execution_count": 43,
   "metadata": {},
   "outputs": [],
   "source": [
    "# get the prediction labels and outlier scores of the training data\n",
    "y_train_pred_norm = clf_4.labels_  # binary labels (0: inliers, 1: outliers)\n",
    "y_train_scores_norm = clf_4.decision_scores_  # raw outlier scores"
   ]
  },
  {
   "cell_type": "code",
   "execution_count": 44,
   "metadata": {},
   "outputs": [
    {
     "data": {
      "image/png": "[encoded data removed]",
      "text/plain": [
       "<Figure size 576x396 with 1 Axes>"
      ]
     },
     "metadata": {},
     "output_type": "display_data"
    }
   ],
   "source": [
    "import matplotlib.pyplot as plt\n",
    "plt.plot(y_train_scores_norm);\n",
    "plt.axhline(y=clf_4.threshold_, c='r', ls='dotted', label='threshoold');\n",
    "plt.title('Anomaly Scores with automatically calculated threshold');"
   ]
  },
  {
   "cell_type": "code",
   "execution_count": 45,
   "metadata": {},
   "outputs": [],
   "source": [
    "# get the prediction on the test data\n",
    "y_test_pred_anom = clf.predict(x_test_anom.to_numpy())  # outlier labels (0 or 1)\n",
    "y_test_scores_anom = clf.decision_function(x_test_anom.to_numpy())  # outlier scores"
   ]
  },
  {
   "cell_type": "code",
   "execution_count": 46,
   "metadata": {},
   "outputs": [
    {
     "data": {
      "image/png": "[encoded data removed]",
      "text/plain": [
       "<Figure size 576x396 with 1 Axes>"
      ]
     },
     "metadata": {},
     "output_type": "display_data"
    }
   ],
   "source": [
    "plt.plot(y_test_scores_anom);\n",
    "plt.axhline(y=clf_4.threshold_, c='r', ls='dotted', label='threshoold');\n",
    "plt.title('Anomaly Scores with automatically calculated threshold');"
   ]
  },
  {
   "cell_type": "markdown",
   "metadata": {},
   "source": [
    "## 2) A model for each dataset\n",
    "### Load the data"
   ]
  },
  {
   "cell_type": "code",
   "execution_count": 50,
   "metadata": {},
   "outputs": [
    {
     "name": "stdout",
     "output_type": "stream",
     "text": [
      ".\\BGP_datasets_for_anomaly_detection\\BCNET_regular.csv\n",
      ".\\BGP_datasets_for_anomaly_detection\\Code_Red_I.csv\n",
      ".\\BGP_datasets_for_anomaly_detection\\Nimda.csv\n",
      ".\\BGP_datasets_for_anomaly_detection\\RIPE_regular.csv\n",
      ".\\BGP_datasets_for_anomaly_detection\\Slammer.csv\n"
     ]
    }
   ],
   "source": [
    "import glob\n",
    "file_path = \".\\BGP_datasets_for_anomaly_detection\"\n",
    "files = []\n",
    "for file in glob.glob(file_path + \"\\*.csv\"):\n",
    "    files.append(file)\n",
    "    print(file)\n"
   ]
  },
  {
   "cell_type": "code",
   "execution_count": 56,
   "metadata": {},
   "outputs": [],
   "source": [
    "dfs = []\n",
    "for idx,file in enumerate(files):\n",
    "    dfs.append(pd.read_csv(file))\n",
    "    dfs[idx].columns = cols[0:38]\n",
    "   "
   ]
  },
  {
   "cell_type": "code",
   "execution_count": 59,
   "metadata": {},
   "outputs": [
    {
     "name": "stderr",
     "output_type": "stream",
     "text": [
      "F:\\Anaconda3\\envs\\bgp\\lib\\site-packages\\pandas\\core\\indexing.py:671: SettingWithCopyWarning: \n",
      "A value is trying to be set on a copy of a slice from a DataFrame\n",
      "\n",
      "See the caveats in the documentation: https://pandas.pydata.org/pandas-docs/stable/user_guide/indexing.html#returning-a-view-versus-a-copy\n",
      "  self._setitem_with_indexer(indexer, value)\n"
     ]
    }
   ],
   "source": [
    "train_test_sets = []\n",
    "for df in dfs:\n",
    "    train = df.sample(frac=0.8,random_state=1)\n",
    "    test  = df.drop(train.index)\n",
    "  \n",
    "    x_train = train[cols[0:37]]\n",
    "    y_train = train[\"Anomalous\"]\n",
    "    y_train.loc[y_train == -1] = 0\n",
    "\n",
    "    x_test = test[cols[0:37]]\n",
    "    y_test = test[\"Anomalous\"]\n",
    "    y_test.loc[y_test == -1] = 0\n",
    "    \n",
    "    train_test_sets.append({\"train\"   :train   ,\n",
    "                            \"test\"    :test    ,\n",
    "                            \"x_train\" :x_train ,\n",
    "                            \"y_train\" :y_train , \n",
    "                            \"x_test\"  :x_test  ,\n",
    "                            \"y_test\"  :y_test  })\n",
    "\n",
    "\n",
    "\n"
   ]
  },
  {
   "cell_type": "markdown",
   "metadata": {},
   "source": [
    "### Model Creation and Evaluation"
   ]
  },
  {
   "cell_type": "code",
   "execution_count": 66,
   "metadata": {},
   "outputs": [],
   "source": [
    "train_scores = []\n",
    "test_scores = []\n",
    "thresholds = []\n",
    "for data in train_test_sets:\n",
    "    x_train = data[\"x_train\"].to_numpy()\n",
    "    x_test  = data[\"x_test\"] .to_numpy()\n",
    "    \n",
    "    clf = KNN()\n",
    "    clf.fit(x_train)\n",
    "    \n",
    "    train_scores.append(clf.decision_scores_)\n",
    "    test_scores.append(clf.decision_function(x_test))\n",
    "    thresholds.append(clf.threshold_)"
   ]
  },
  {
   "cell_type": "markdown",
   "metadata": {},
   "source": [
    "### Visualizations"
   ]
  },
  {
   "cell_type": "code",
   "execution_count": 74,
   "metadata": {},
   "outputs": [
    {
     "data": {
      "image/png": "[encoded data removed]",
      "text/plain": [
       "<Figure size 576x396 with 6 Axes>"
      ]
     },
     "metadata": {},
     "output_type": "display_data"
    }
   ],
   "source": [
    "M = 3\n",
    "N = 2\n",
    "fig , ax = plt.subplots(M,N)\n",
    "for i in range(M):\n",
    "    for j in range(N):\n",
    "        lin_idx = M * (j ) + i\n",
    "        if lin_idx < 5:\n",
    "            ax[i,j].plot(np.sort(test_scores[lin_idx]));\n",
    "            ax[i,j].axhline(y=thresholds[lin_idx], c='r', ls='dotted', label='threshoold');\n",
    "            #ax[i,j].title('Anomaly Scores with automatically calculated threshold');"
   ]
  },
  {
   "cell_type": "code",
   "execution_count": null,
   "metadata": {},
   "outputs": [],
   "source": []
  }
 ],
 "metadata": {
  "kernelspec": {
   "display_name": "Python 3",
   "language": "python",
   "name": "python3"
  },
  "language_info": {
   "codemirror_mode": {
    "name": "ipython",
    "version": 3
   },
   "file_extension": ".py",
   "mimetype": "text/x-python",
   "name": "python",
   "nbconvert_exporter": "python",
   "pygments_lexer": "ipython3",
   "version": "3.7.7"
  }
 },
 "nbformat": 4,
 "nbformat_minor": 2
}
